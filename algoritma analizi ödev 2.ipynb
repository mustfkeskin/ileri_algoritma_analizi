{
 "cells": [
  {
   "cell_type": "code",
   "execution_count": 1,
   "metadata": {
    "collapsed": true
   },
   "outputs": [],
   "source": [
    "import re\n",
    "import pandas as pd\n",
    "import random\n",
    "import numpy as np\n",
    "\n",
    "filename = \"C:\\\\Users\\\\mustafa\\\\Documents\\\\test.txt\"\n",
    "filename2 = \"C:\\\\Users\\\\mustafa\\\\Documents\\\\test2.txt\"\n",
    "\n",
    "filenames = [filename, filename2]"
   ]
  },
  {
   "cell_type": "code",
   "execution_count": 2,
   "metadata": {},
   "outputs": [],
   "source": [
    "def extract_all_shingles(filenames):\n",
    "    \n",
    "    k4_dict = {}\n",
    "    k5_dict = {}\n",
    "    k8_dict = {}\n",
    "    \n",
    "    for filename in filenames:\n",
    "        \n",
    "        file = open(filename, \"r\") \n",
    "        text = file.read()\n",
    "        text = re.sub('[^0-9a-zA-Z]+', ' ', text)\n",
    "        text = re.sub('  ', ' ', text)\n",
    "        text = text.lower()\n",
    "\n",
    "        for i in range(len(text)):\n",
    "            k4 = text[i : i+4]\n",
    "            k5 = text[i : i+5]\n",
    "            k8 = text[i : i+8]\n",
    "\n",
    "            if k4 not in k4_dict:\n",
    "                k4_dict[k4] = 0\n",
    "            if k5 not in k5_dict:\n",
    "                k5_dict[k5] = 0\n",
    "            if k8 not in k8_dict:\n",
    "                k8_dict[k8] = 0\n",
    "\n",
    "    return k4_dict, k5_dict, k8_dict   \n",
    "\n",
    "    \n",
    "def shingle(filename, k4_dict, k5_dict, k8_dict):\n",
    "      \n",
    "    k4_dict1 = k4_dict.copy()\n",
    "    k5_dict1 = k5_dict.copy()\n",
    "    k8_dict1 = k8_dict.copy()\n",
    "                \n",
    "    file = open(filename, \"r\") \n",
    "    text = file.read()\n",
    "    text = re.sub('[^0-9a-zA-Z]+', ' ', text)\n",
    "    text = re.sub('  ', ' ', text)\n",
    "    text = text.lower()\n",
    "\n",
    "    for i in range(len(text)):\n",
    "        k4 = text[i : i+4]\n",
    "        k5 = text[i : i+5]\n",
    "        k8 = text[i : i+8]\n",
    "\n",
    "        if k4 in k4_dict1:\n",
    "            k4_dict1[k4] = 1\n",
    "        if k5 in k5_dict1:\n",
    "            k5_dict1[k5] = 1\n",
    "        if k8 in k8_dict1:\n",
    "            k8_dict1[k8] = 1\n",
    "\n",
    "    return k4_dict1, k5_dict1, k8_dict1     \n",
    "\n",
    "\n",
    "def jaccard(x,y):\n",
    "    counter = 0\n",
    "    for key in x:\n",
    "        if x[key] == 1 and y[key] == 1:\n",
    "            counter = counter + 1      \n",
    "    return (counter / len(x))      \n",
    "            \n",
    "    \n",
    "def hash(a):\n",
    "    def sub_hash(x, m = 991):\n",
    "        return (a*x + 1) % m \n",
    "    return sub_hash"
   ]
  },
  {
   "cell_type": "code",
   "execution_count": 3,
   "metadata": {},
   "outputs": [],
   "source": [
    "k4_dict, k5_dict, k8_dict = extract_all_shingles(filenames)\n",
    "k4_dict1, k5_dict1, k8_dict1 = shingle(filename, k4_dict, k5_dict, k8_dict)"
   ]
  },
  {
   "cell_type": "code",
   "execution_count": 4,
   "metadata": {},
   "outputs": [],
   "source": [
    "k4_dict2, k5_dict2, k8_dict2 = shingle(filename2, k4_dict, k5_dict, k8_dict)"
   ]
  },
  {
   "cell_type": "code",
   "execution_count": 5,
   "metadata": {},
   "outputs": [
    {
     "name": "stdout",
     "output_type": "stream",
     "text": [
      "0.1509433962264151\n",
      "0.13392857142857142\n",
      "0.09349593495934959\n"
     ]
    }
   ],
   "source": [
    "print(jaccard(k4_dict1, k4_dict2))\n",
    "print(jaccard(k5_dict1, k5_dict2))\n",
    "print(jaccard(k8_dict1, k8_dict2))"
   ]
  },
  {
   "cell_type": "code",
   "execution_count": 6,
   "metadata": {
    "collapsed": true
   },
   "outputs": [],
   "source": [
    "hashs = []\n",
    "rand_hash = random.sample(range(1, 991), 100)\n",
    "\n",
    "for i in range(100):\n",
    "    hashs.append(hash(rand_hash[i]))"
   ]
  },
  {
   "cell_type": "code",
   "execution_count": 7,
   "metadata": {
    "collapsed": true
   },
   "outputs": [],
   "source": [
    "for i in range(100):\n",
    "    h = hashs[i]"
   ]
  },
  {
   "cell_type": "code",
   "execution_count": 8,
   "metadata": {
    "collapsed": true
   },
   "outputs": [],
   "source": [
    "def h1(x):\n",
    "    return x % 5 + 1\n",
    "\n",
    "def h2(x):\n",
    "    return (2*x + 1) % 5 + 1\n",
    "\n",
    "hashx = []\n",
    "hashx.append(h1)\n",
    "hashx.append(h2)"
   ]
  },
  {
   "cell_type": "code",
   "execution_count": 9,
   "metadata": {},
   "outputs": [],
   "source": [
    "matris = np.zeros((5, 2))\n",
    "matris_hash = np.zeros((5, 2))\n",
    "signature_matrix = np.full((2, 2), 999)\n",
    "\n",
    "matris[0, 0] = 1\n",
    "matris[1, 1] = 1\n",
    "matris[2, 0] = 1\n",
    "matris[2, 1] = 1\n",
    "matris[3, 0] = 1\n",
    "matris[4, 1] = 1"
   ]
  },
  {
   "cell_type": "code",
   "execution_count": null,
   "metadata": {
    "collapsed": true
   },
   "outputs": [],
   "source": [
    "nrow = len(shingle_size)\n",
    "ncol = len(filenames)\n",
    "nhash = len(hashs)\n",
    "\n",
    "# matris shingle var yok matrisi\n",
    "matris = np.zeros((nrow, ncol))\n",
    "matris_hash = np.zeros((nrow, nhash))\n",
    "signature_matrix = np.full((nhash, nrow), 9999999)"
   ]
  },
  {
   "cell_type": "code",
   "execution_count": 10,
   "metadata": {},
   "outputs": [
    {
     "name": "stdout",
     "output_type": "stream",
     "text": [
      "[[  2 999]\n",
      " [  4 999]]\n",
      "[[2 3]\n",
      " [4 1]]\n",
      "[[2 3]\n",
      " [3 1]]\n",
      "[[2 3]\n",
      " [3 1]]\n",
      "[[2 1]\n",
      " [3 1]]\n",
      "matris hash\n",
      "[[ 2.  4.]\n",
      " [ 3.  1.]\n",
      " [ 4.  3.]\n",
      " [ 5.  5.]\n",
      " [ 1.  2.]]\n",
      "matris\n",
      "[[ 1.  0.]\n",
      " [ 0.  1.]\n",
      " [ 1.  1.]\n",
      " [ 1.  0.]\n",
      " [ 0.  1.]]\n",
      "signature matrix\n",
      "[[2 1]\n",
      " [3 1]]\n"
     ]
    }
   ],
   "source": [
    "for i in range(matris_hash.shape[0]):\n",
    "    for j in range(matris_hash.shape[1]):\n",
    "        h = hashx[j]\n",
    "        matris_hash[i, j] = h(i + 1)\n",
    "    \n",
    "    for j in range(matris.shape[1]):\n",
    "        if(matris[i, j] == 1):\n",
    "            for k in range(matris_hash.shape[1]):\n",
    "                if(signature_matrix[k, j] > matris_hash[i, k]):\n",
    "                    signature_matrix[k, j] = matris_hash[i, k]\n",
    "                    \n",
    "                    \n",
    "    print(signature_matrix)\n",
    "\n",
    "print(\"matris hash\")\n",
    "print(matris_hash)\n",
    "print(\"matris\")\n",
    "print(matris)\n",
    "print(\"signature matrix\")\n",
    "print(signature_matrix)"
   ]
  },
  {
   "cell_type": "code",
   "execution_count": null,
   "metadata": {
    "collapsed": true
   },
   "outputs": [],
   "source": []
  },
  {
   "cell_type": "code",
   "execution_count": null,
   "metadata": {
    "collapsed": true
   },
   "outputs": [],
   "source": []
  }
 ],
 "metadata": {
  "kernelspec": {
   "display_name": "Python 3",
   "language": "python",
   "name": "python3"
  },
  "language_info": {
   "codemirror_mode": {
    "name": "ipython",
    "version": 3
   },
   "file_extension": ".py",
   "mimetype": "text/x-python",
   "name": "python",
   "nbconvert_exporter": "python",
   "pygments_lexer": "ipython3",
   "version": "3.6.3"
  }
 },
 "nbformat": 4,
 "nbformat_minor": 2
}
