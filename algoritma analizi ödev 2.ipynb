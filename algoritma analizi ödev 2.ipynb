{
 "cells": [
  {
   "cell_type": "code",
   "execution_count": 1,
   "metadata": {
    "collapsed": true
   },
   "outputs": [],
   "source": [
    "import re\n",
    "\n",
    "filename = \"C:\\\\Users\\\\mustafa\\\\Documents\\\\test.txt\"\n",
    "filename2 = \"C:\\\\Users\\\\mustafa\\\\Documents\\\\test2.txt\""
   ]
  },
  {
   "cell_type": "code",
   "execution_count": 12,
   "metadata": {},
   "outputs": [],
   "source": [
    "def shingles(filename):\n",
    "\n",
    "    file = open(filename, \"r\") \n",
    "    text = file.read()\n",
    "\n",
    "    text = re.sub('[^0-9a-zA-Z]+', ' ', text)\n",
    "\n",
    "\n",
    "    text = text.lower()\n",
    "    k4_dict = {}\n",
    "    k5_dict = {}\n",
    "    k8_dict = {}\n",
    "\n",
    "\n",
    "    for i in range(len(text)):\n",
    "        k4 = text[i : i+4].lower()\n",
    "        k5 = text[i : i+5].lower()\n",
    "        k8 = text[i : i+8].lower()\n",
    "\n",
    "        if k4 not in k4_dict:\n",
    "            k4_dict[k4] = 1\n",
    "        if k5 not in k5_dict:\n",
    "            k5_dict[k5] = 1\n",
    "        if k8 not in k8_dict:\n",
    "            k8_dict[k8] = 1\n",
    "\n",
    "    return k4_dict, k5_dict, k8_dict   \n",
    "\n",
    "\n",
    "\n",
    "def merge_two_dicts(x, y):\n",
    "    z = x.copy()   # start with x's keys and values\n",
    "    z.update(y)    # modifies z with y's keys and values & returns None\n",
    "    return z\n",
    "\n",
    "\n",
    "def jaccard(x, y):\n",
    "    union = merge_two_dicts(x, y)\n",
    "    intersect = set(x.items()) & set(y.items())\n",
    "    return len(intersect) / len(union)\n",
    "\n",
    "\n",
    "def hash(a):\n",
    "    def sub_hash(x, m = 991):\n",
    "        return (a*x + 1) % m \n",
    "    return sub_hash"
   ]
  },
  {
   "cell_type": "code",
   "execution_count": 3,
   "metadata": {},
   "outputs": [
    {
     "data": {
      "text/plain": [
       "0.2336448598130841"
      ]
     },
     "execution_count": 3,
     "metadata": {},
     "output_type": "execute_result"
    }
   ],
   "source": [
    "k4_dict1 , k5_dict1, k8_dict1 = shingles(filename)\n",
    "k4_dict2 , k5_dict2, k8_dict2 = shingles(filename2)\n",
    "jaccard(k4_dict1, k4_dict2)"
   ]
  },
  {
   "cell_type": "code",
   "execution_count": 18,
   "metadata": {},
   "outputs": [],
   "source": [
    "hashs = []\n",
    "for i in range(100):\n",
    "    hashs.append(hash(i))"
   ]
  },
  {
   "cell_type": "code",
   "execution_count": 20,
   "metadata": {},
   "outputs": [
    {
     "name": "stdout",
     "output_type": "stream",
     "text": [
      "1\n",
      "2\n",
      "5\n",
      "10\n",
      "17\n",
      "26\n",
      "37\n",
      "50\n",
      "65\n",
      "82\n",
      "101\n",
      "122\n",
      "145\n",
      "170\n",
      "197\n",
      "226\n",
      "257\n",
      "290\n",
      "325\n",
      "362\n",
      "401\n",
      "442\n",
      "485\n",
      "530\n",
      "577\n",
      "626\n",
      "677\n",
      "730\n",
      "785\n",
      "842\n",
      "901\n",
      "962\n",
      "34\n",
      "99\n",
      "166\n",
      "235\n",
      "306\n",
      "379\n",
      "454\n",
      "531\n",
      "610\n",
      "691\n",
      "774\n",
      "859\n",
      "946\n",
      "44\n",
      "135\n",
      "228\n",
      "323\n",
      "420\n",
      "519\n",
      "620\n",
      "723\n",
      "828\n",
      "935\n",
      "53\n",
      "164\n",
      "277\n",
      "392\n",
      "509\n",
      "628\n",
      "749\n",
      "872\n",
      "6\n",
      "133\n",
      "262\n",
      "393\n",
      "526\n",
      "661\n",
      "798\n",
      "937\n",
      "87\n",
      "230\n",
      "375\n",
      "522\n",
      "671\n",
      "822\n",
      "975\n",
      "139\n",
      "296\n",
      "455\n",
      "616\n",
      "779\n",
      "944\n",
      "120\n",
      "289\n",
      "460\n",
      "633\n",
      "808\n",
      "985\n",
      "173\n",
      "354\n",
      "537\n",
      "722\n",
      "909\n",
      "107\n",
      "298\n",
      "491\n",
      "686\n",
      "883\n"
     ]
    }
   ],
   "source": [
    "for i in range(100):\n",
    "    h = hashs[i]\n",
    "    print(h(i))"
   ]
  },
  {
   "cell_type": "code",
   "execution_count": null,
   "metadata": {
    "collapsed": true
   },
   "outputs": [],
   "source": []
  }
 ],
 "metadata": {
  "kernelspec": {
   "display_name": "Python 3",
   "language": "python",
   "name": "python3"
  },
  "language_info": {
   "codemirror_mode": {
    "name": "ipython",
    "version": 3
   },
   "file_extension": ".py",
   "mimetype": "text/x-python",
   "name": "python",
   "nbconvert_exporter": "python",
   "pygments_lexer": "ipython3",
   "version": "3.6.3"
  }
 },
 "nbformat": 4,
 "nbformat_minor": 2
}
