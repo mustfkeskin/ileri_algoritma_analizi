{
 "cells": [
  {
   "cell_type": "code",
   "execution_count": 1,
   "metadata": {
    "collapsed": true
   },
   "outputs": [],
   "source": [
    "import re\n",
    "import pandas as pd\n",
    "import random\n",
    "import numpy as np\n",
    "\n",
    "filename = \"C:\\\\Users\\\\mustafa\\\\Documents\\\\test.txt\"\n",
    "filename2 = \"C:\\\\Users\\\\mustafa\\\\Documents\\\\test2.txt\"\n",
    "filename3 = \"C:\\\\Users\\\\mustafa\\\\Documents\\\\test3.txt\"\n",
    "\n",
    "filenames = [filename, filename2, filename3]"
   ]
  },
  {
   "cell_type": "code",
   "execution_count": 2,
   "metadata": {
    "collapsed": true
   },
   "outputs": [],
   "source": [
    "def extract_all_shingles(filenames):\n",
    "    \n",
    "    k4_dict = {}\n",
    "    k5_dict = {}\n",
    "    k8_dict = {}\n",
    "    \n",
    "    for filename in filenames:\n",
    "        \n",
    "        file = open(filename, \"r\") \n",
    "        text = file.read()\n",
    "        text = re.sub('[^0-9a-zA-Z]+', ' ', text)\n",
    "        text = re.sub('  ', ' ', text)\n",
    "        text = text.lower()\n",
    "\n",
    "        for i in range(len(text)):\n",
    "            k4 = text[i : i+4]\n",
    "            k5 = text[i : i+5]\n",
    "            k8 = text[i : i+8]\n",
    "\n",
    "            if k4 not in k4_dict:\n",
    "                k4_dict[k4] = 0\n",
    "            if k5 not in k5_dict:\n",
    "                k5_dict[k5] = 0\n",
    "            if k8 not in k8_dict:\n",
    "                k8_dict[k8] = 0\n",
    "\n",
    "    return k4_dict, k5_dict, k8_dict   \n",
    "\n",
    "    \n",
    "def shingle(filename, k4_dict, k5_dict, k8_dict):\n",
    "      \n",
    "    k4_dict1 = k4_dict.copy()\n",
    "    k5_dict1 = k5_dict.copy()\n",
    "    k8_dict1 = k8_dict.copy()\n",
    "                \n",
    "    file = open(filename, \"r\") \n",
    "    text = file.read()\n",
    "    text = re.sub('[^0-9a-zA-Z]+', ' ', text)\n",
    "    text = re.sub('  ', ' ', text)\n",
    "    text = text.lower()\n",
    "\n",
    "    for i in range(len(text)):\n",
    "        k4 = text[i : i+4]\n",
    "        k5 = text[i : i+5]\n",
    "        k8 = text[i : i+8]\n",
    "\n",
    "        if k4 in k4_dict1:\n",
    "            k4_dict1[k4] = 1\n",
    "        if k5 in k5_dict1:\n",
    "            k5_dict1[k5] = 1\n",
    "        if k8 in k8_dict1:\n",
    "            k8_dict1[k8] = 1\n",
    "\n",
    "    return k4_dict1, k5_dict1, k8_dict1     \n",
    "\n",
    "\n",
    "def jaccard(x, y):\n",
    "    T1 = x == 1\n",
    "    T2 = y == 1\n",
    "\n",
    "    F1 = x == 0\n",
    "    F2 = y == 0\n",
    "\n",
    "    total = len(x)\n",
    "    ratio = np.sum(T1 == T2) / (total - np.sum(F1 == F2))\n",
    "    return ratio\n",
    "            \n",
    "    \n",
    "def hash(a):\n",
    "    def sub_hash(x, m = 991):\n",
    "        return (a*x + 1) % m\n",
    "    return sub_hash"
   ]
  },
  {
   "cell_type": "code",
   "execution_count": 3,
   "metadata": {
    "collapsed": true
   },
   "outputs": [],
   "source": [
    "k4_dict, k5_dict, k8_dict = extract_all_shingles(filenames)\n",
    "\n",
    "k4_matrix = np.zeros((len(k4_dict), len(filenames)))\n",
    "k5_matrix = np.zeros((len(k5_dict), len(filenames)))\n",
    "k8_matrix = np.zeros((len(k8_dict), len(filenames)))\n",
    "\n",
    "for i, filename in enumerate(filenames):\n",
    "    k4_dict1, k5_dict1, k8_dict1 = shingle(filename, k4_dict, k5_dict, k8_dict)\n",
    "    k4_matrix[:,i] = np.fromiter(k4_dict1.values(), dtype = float)\n",
    "    k5_matrix[:,i] = np.fromiter(k5_dict1.values(), dtype = float)\n",
    "    k8_matrix[:,i] = np.fromiter(k8_dict1.values(), dtype = float)"
   ]
  },
  {
   "cell_type": "code",
   "execution_count": 4,
   "metadata": {},
   "outputs": [
    {
     "name": "stdout",
     "output_type": "stream",
     "text": [
      "Hangi dökümanda kaç adet K Shingle olduğunu gösteren matris\n"
     ]
    },
    {
     "data": {
      "text/html": [
       "<div>\n",
       "<style>\n",
       "    .dataframe thead tr:only-child th {\n",
       "        text-align: right;\n",
       "    }\n",
       "\n",
       "    .dataframe thead th {\n",
       "        text-align: left;\n",
       "    }\n",
       "\n",
       "    .dataframe tbody tr th {\n",
       "        vertical-align: top;\n",
       "    }\n",
       "</style>\n",
       "<table border=\"1\" class=\"dataframe\">\n",
       "  <thead>\n",
       "    <tr style=\"text-align: right;\">\n",
       "      <th></th>\n",
       "      <th>k4</th>\n",
       "      <th>k5</th>\n",
       "      <th>k8</th>\n",
       "    </tr>\n",
       "  </thead>\n",
       "  <tbody>\n",
       "    <tr>\n",
       "      <th>C:\\Users\\mustafa\\Documents\\test.txt</th>\n",
       "      <td>190.0</td>\n",
       "      <td>198.0</td>\n",
       "      <td>209.0</td>\n",
       "    </tr>\n",
       "    <tr>\n",
       "      <th>C:\\Users\\mustafa\\Documents\\test2.txt</th>\n",
       "      <td>156.0</td>\n",
       "      <td>165.0</td>\n",
       "      <td>179.0</td>\n",
       "    </tr>\n",
       "    <tr>\n",
       "      <th>C:\\Users\\mustafa\\Documents\\test3.txt</th>\n",
       "      <td>231.0</td>\n",
       "      <td>250.0</td>\n",
       "      <td>280.0</td>\n",
       "    </tr>\n",
       "  </tbody>\n",
       "</table>\n",
       "</div>"
      ],
      "text/plain": [
       "                                         k4     k5     k8\n",
       "C:\\Users\\mustafa\\Documents\\test.txt   190.0  198.0  209.0\n",
       "C:\\Users\\mustafa\\Documents\\test2.txt  156.0  165.0  179.0\n",
       "C:\\Users\\mustafa\\Documents\\test3.txt  231.0  250.0  280.0"
      ]
     },
     "execution_count": 4,
     "metadata": {},
     "output_type": "execute_result"
    }
   ],
   "source": [
    "n = len(filenames)\n",
    "k_shingle_matrix = np.zeros((n, 3))\n",
    "\n",
    "for i in range(len(filenames)):\n",
    "    k_shingle_matrix[i, 0] = np.sum(k4_matrix[:,i])\n",
    "    k_shingle_matrix[i, 1] = np.sum(k5_matrix[:,i])\n",
    "    k_shingle_matrix[i, 2] = np.sum(k8_matrix[:,i])\n",
    "\n",
    "k_shingle_matrix = pd.DataFrame(k_shingle_matrix)\n",
    "k_shingle_matrix.index = filenames\n",
    "k_shingle_matrix.columns = [\"k4\", \"k5\", \"k8\"]\n",
    "\n",
    "print(\"Hangi dökümanda kaç adet K Shingle olduğunu gösteren matris\")\n",
    "k_shingle_matrix"
   ]
  },
  {
   "cell_type": "code",
   "execution_count": 5,
   "metadata": {},
   "outputs": [
    {
     "name": "stdout",
     "output_type": "stream",
     "text": [
      "k4 için toplam shingle sayısı 523\n",
      "k5 için toplam shingle sayısı 577\n",
      "k8 için toplam shingle sayısı 662\n"
     ]
    }
   ],
   "source": [
    "print(\"k4 için toplam shingle sayısı \" + str(k4_matrix.shape[0]))\n",
    "print(\"k5 için toplam shingle sayısı \" + str(k5_matrix.shape[0]))\n",
    "print(\"k8 için toplam shingle sayısı \" + str(k8_matrix.shape[0]))"
   ]
  },
  {
   "cell_type": "code",
   "execution_count": 6,
   "metadata": {},
   "outputs": [
    {
     "name": "stdout",
     "output_type": "stream",
     "text": [
      "k4 shingle similarity matrisi\n",
      "[[ 1.          0.82867133  0.3307888 ]\n",
      " [ 0.82867133  1.          0.53372434]\n",
      " [ 0.3307888   0.53372434  1.        ]]\n",
      "\n",
      "k5 shingle similarity matrisi\n",
      "[[ 1.          0.77538462  0.33564815]\n",
      " [ 0.77538462  1.          0.5144357 ]\n",
      " [ 0.33564815  0.5144357   1.        ]]\n",
      "\n",
      "k8 shingle similarity matrisi\n",
      "[[ 1.          0.72395833  0.35378323]\n",
      " [ 0.72395833  1.          0.46784922]\n",
      " [ 0.35378323  0.46784922  1.        ]]\n",
      "\n"
     ]
    }
   ],
   "source": [
    "def calc_shingle_similarity(k_matrix):\n",
    "    # k matrisinin kolon sayısı döküman sayısını içermekte\n",
    "    n = k_matrix.shape[1]\n",
    "    shingle_similarity_matrix = np.zeros((n, n))\n",
    "    \n",
    "    for i in range(n):\n",
    "        shingle_similarity_matrix[i, i] = 1\n",
    "        for j in range(i):\n",
    "            shingle_similarity_matrix[i, j] = jaccard(k_matrix[:, i], k_matrix[:, j])\n",
    "            shingle_similarity_matrix[j, i] = shingle_similarity_matrix[i, j]\n",
    "\n",
    "    return shingle_similarity_matrix\n",
    "\n",
    "\n",
    "n = len(filenames)\n",
    "\n",
    "shingle_similarity_matrix_k4 = np.zeros((n, n))\n",
    "shingle_similarity_matrix_k5 = np.zeros((n, n))\n",
    "shingle_similarity_matrix_k8 = np.zeros((n, n))\n",
    "\n",
    "shingle_similarity_matrix_k4 = calc_shingle_similarity(k4_matrix)\n",
    "shingle_similarity_matrix_k5 = calc_shingle_similarity(k5_matrix)\n",
    "shingle_similarity_matrix_k8 = calc_shingle_similarity(k8_matrix)\n",
    "\n",
    "print(\"k4 shingle similarity matrisi\")\n",
    "print(shingle_similarity_matrix_k4)\n",
    "print(\"\")\n",
    "\n",
    "print(\"k5 shingle similarity matrisi\")\n",
    "print(shingle_similarity_matrix_k5)\n",
    "print(\"\")\n",
    "\n",
    "print(\"k8 shingle similarity matrisi\")\n",
    "print(shingle_similarity_matrix_k8)\n",
    "print(\"\")"
   ]
  },
  {
   "cell_type": "code",
   "execution_count": 7,
   "metadata": {
    "collapsed": true
   },
   "outputs": [],
   "source": [
    "#hashx 100 adet hash fonksiyonunu tutuyor.\n",
    "hashx = []\n",
    "rand_hash = random.sample(range(1, 991), 100)\n",
    "\n",
    "for i in range(100):\n",
    "    hashx.append(hash(rand_hash[i]))"
   ]
  },
  {
   "cell_type": "code",
   "execution_count": 8,
   "metadata": {},
   "outputs": [],
   "source": [
    "shingle_size = len(k4_dict)\n",
    "\n",
    "nrow = shingle_size\n",
    "ncol = len(filenames)\n",
    "nhash = len(hashx)\n",
    "\n",
    "\n",
    "def calc_signature_matrix(matris):\n",
    "    \n",
    "    matris_hash = np.zeros((nrow, nhash))\n",
    "    signature_matrix = np.full((nhash, ncol), 9999999)\n",
    "    \n",
    "    for i in range(matris_hash.shape[0]):\n",
    "        for j in range(matris_hash.shape[1]):\n",
    "            h = hashx[j]\n",
    "            matris_hash[i, j] = h(i + 1)\n",
    "\n",
    "        for j in range(matris.shape[1]):\n",
    "            if(matris[i, j] == 1):\n",
    "                for k in range(matris_hash.shape[1]):\n",
    "                    if(signature_matrix[k, j] > matris_hash[i, k]):\n",
    "                        signature_matrix[k, j] = matris_hash[i, k]\n",
    "    \n",
    "    return(signature_matrix)\n",
    "\n",
    "k4_signature_matrix = calc_signature_matrix(k4_matrix)\n",
    "k5_signature_matrix = calc_signature_matrix(k5_matrix)\n",
    "k8_signature_matrix = calc_signature_matrix(k8_matrix)            "
   ]
  },
  {
   "cell_type": "code",
   "execution_count": 9,
   "metadata": {},
   "outputs": [],
   "source": [
    "def calc_signature_similarity(sig_matrix):\n",
    "    n = sig_matrix.shape[1]\n",
    "    signature_similarity_matrix = np.zeros((n, n))\n",
    "    \n",
    "    for i in range(n):\n",
    "        signature_similarity_matrix[i, i] = 1\n",
    "        for j in range(i):\n",
    "            signature_similarity_matrix[i, j] = jaccard_signature(sig_matrix[:, i], sig_matrix[:, j])\n",
    "            signature_similarity_matrix[j, i] = signature_similarity_matrix[i, j]\n",
    "\n",
    "    return signature_similarity_matrix\n",
    "\n",
    "\n",
    "def jaccard_signature(x, y):\n",
    "    return np.sum(x == y) / len(x)"
   ]
  },
  {
   "cell_type": "code",
   "execution_count": 10,
   "metadata": {},
   "outputs": [
    {
     "name": "stdout",
     "output_type": "stream",
     "text": [
      "k4 signature similarity matrisi\n",
      "[[ 1.    0.09  0.03]\n",
      " [ 0.09  1.    0.14]\n",
      " [ 0.03  0.14  1.  ]]\n",
      "k5 signature similarity matrisi\n",
      "[[ 1.    0.01  0.  ]\n",
      " [ 0.01  1.    0.04]\n",
      " [ 0.    0.04  1.  ]]\n",
      "k8 signature similarity matrisi\n",
      "[[ 1.    0.02  0.  ]\n",
      " [ 0.02  1.    0.02]\n",
      " [ 0.    0.02  1.  ]]\n"
     ]
    }
   ],
   "source": [
    "n = len(filenames)\n",
    "\n",
    "signature_similarity_matrix_k4 = np.zeros((n, n))\n",
    "signature_similarity_matrix_k5 = np.zeros((n, n))\n",
    "signature_similarity_matrix_k8 = np.zeros((n, n))\n",
    "\n",
    "signature_similarity_matrix_k4 = calc_signature_similarity(k4_signature_matrix)\n",
    "signature_similarity_matrix_k5 = calc_signature_similarity(k5_signature_matrix)\n",
    "signature_similarity_matrix_k8 = calc_signature_similarity(k8_signature_matrix)\n",
    "\n",
    "print(\"k4 signature similarity matrisi\")\n",
    "print(signature_similarity_matrix_k4)\n",
    "\n",
    "print(\"k5 signature similarity matrisi\")\n",
    "print(signature_similarity_matrix_k5)\n",
    "\n",
    "print(\"k8 signature similarity matrisi\")\n",
    "print(signature_similarity_matrix_k8)"
   ]
  }
 ],
 "metadata": {
  "kernelspec": {
   "display_name": "Python 3",
   "language": "python",
   "name": "python3"
  },
  "language_info": {
   "codemirror_mode": {
    "name": "ipython",
    "version": 3
   },
   "file_extension": ".py",
   "mimetype": "text/x-python",
   "name": "python",
   "nbconvert_exporter": "python",
   "pygments_lexer": "ipython3",
   "version": "3.6.3"
  }
 },
 "nbformat": 4,
 "nbformat_minor": 2
}
